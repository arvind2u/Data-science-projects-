{
  "nbformat": 4,
  "nbformat_minor": 0,
  "metadata": {
    "colab": {
      "name": "by_using_saved_model.ipynb",
      "provenance": []
    },
    "kernelspec": {
      "name": "python3",
      "display_name": "Python 3"
    },
    "language_info": {
      "name": "python"
    }
  },
  "cells": [
    {
      "cell_type": "code",
      "execution_count": 1,
      "metadata": {
        "colab": {
          "base_uri": "https://localhost:8080/"
        },
        "id": "O114SDEzkxaN",
        "outputId": "60b76c19-bc98-4614-e024-4f28aebcf493"
      },
      "outputs": [
        {
          "output_type": "stream",
          "name": "stdout",
          "text": [
            "network_anomaly_detection_state_dict      \u001b[0m\u001b[01;34msample_data\u001b[0m/\n",
            "network_anomaly_detection_state_dict.zip\n"
          ]
        }
      ],
      "source": [
        "ls"
      ]
    },
    {
      "cell_type": "code",
      "source": [
        "!unzip network_anomaly_detection_state_dict.zip"
      ],
      "metadata": {
        "colab": {
          "base_uri": "https://localhost:8080/"
        },
        "id": "16AcPxfWui-r",
        "outputId": "afa80d78-1964-4872-ea46-799711204c88"
      },
      "execution_count": 2,
      "outputs": [
        {
          "output_type": "stream",
          "name": "stdout",
          "text": [
            "Archive:  network_anomaly_detection_state_dict.zip\n",
            "replace network_anomaly_detection_state_dict? [y]es, [n]o, [A]ll, [N]one, [r]ename: "
          ]
        }
      ]
    },
    {
      "cell_type": "code",
      "source": [
        "import pickle \n"
      ],
      "metadata": {
        "id": "QVW5XZtNlbID"
      },
      "execution_count": 3,
      "outputs": []
    },
    {
      "cell_type": "code",
      "source": [
        "local_scaler = pickle.load(open('sc.pickle', 'rb'))"
      ],
      "metadata": {
        "id": "a12AjA9vmRmT"
      },
      "execution_count": 8,
      "outputs": []
    },
    {
      "cell_type": "code",
      "source": [
        "import torch \n",
        "import torch.nn as nn\n",
        "from torch.nn import functional as f \n"
      ],
      "metadata": {
        "id": "vuuOyG2nxIWh"
      },
      "execution_count": 9,
      "outputs": []
    },
    {
      "cell_type": "code",
      "source": [
        "input_size = 3\n",
        "output_size = 2\n",
        "hidden_size = 10"
      ],
      "metadata": {
        "id": "0d14c08PxIgc"
      },
      "execution_count": 10,
      "outputs": []
    },
    {
      "cell_type": "code",
      "source": [
        "class Net(nn.Module):\n",
        "    def __init__(self):\n",
        "         super(Net, self).__init__()\n",
        "         self.fc1 = torch.nn.Linear(input_size, hidden_size)\n",
        "         self.fc2 = torch.nn.Linear(hidden_size, hidden_size)\n",
        "         self.fc3 = torch.nn.Linear(hidden_size, output_size)\n",
        "\n",
        "\n",
        "    def forward(self, X):\n",
        "        X = torch.relu((self.fc1(X)))\n",
        "        X = torch.relu((self.fc2(X)))\n",
        "        X = self.fc3(X)\n",
        "\n",
        "        return f.log_softmax(X, dim=1)"
      ],
      "metadata": {
        "id": "ebCDTIEHyK3Z"
      },
      "execution_count": 11,
      "outputs": []
    },
    {
      "cell_type": "code",
      "source": [
        "new_pred = Net()"
      ],
      "metadata": {
        "id": "DAfedyIyzGdO"
      },
      "execution_count": 13,
      "outputs": []
    },
    {
      "cell_type": "code",
      "source": [
        "new_pred.load_state_dict(torch.load('network_anomaly_detection_state_dict'))"
      ],
      "metadata": {
        "colab": {
          "base_uri": "https://localhost:8080/"
        },
        "id": "7rHIqETlyrFe",
        "outputId": "2b731576-7c67-4b17-cd18-6de5366dbc27"
      },
      "execution_count": 14,
      "outputs": [
        {
          "output_type": "execute_result",
          "data": {
            "text/plain": [
              "<All keys matched successfully>"
            ]
          },
          "metadata": {},
          "execution_count": 14
        }
      ]
    },
    {
      "cell_type": "code",
      "source": [
        "#now we can predict the new varable using this model by below command \n",
        "#y_anomaly = new_pred(torch.from_numpy(local_scaler.transform(np.array([[]]))).float())"
      ],
      "metadata": {
        "id": "ou1OrSyCzMiB"
      },
      "execution_count": 15,
      "outputs": []
    }
  ]
}